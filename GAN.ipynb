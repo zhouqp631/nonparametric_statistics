{
 "cells": [
  {
   "cell_type": "markdown",
   "metadata": {
    "tags": []
   },
   "source": [
    "# 在MNIST上实现GAN   "
   ]
  },
  {
   "cell_type": "code",
   "execution_count": 1,
   "metadata": {},
   "outputs": [],
   "source": [
    "import torch\n",
    "import torch.nn as nn\n",
    "import torch.optim as optim\n",
    "from torchvision.utils import save_image\n",
    "\n",
    "import numpy as np\n",
    "import os\n",
    "import random\n",
    "import matplotlib.pyplot as plt\n",
    "import seaborn as sns; sns.set()\n",
    "from tqdm import tqdm\n",
    "%matplotlib inline"
   ]
  },
  {
   "cell_type": "markdown",
   "metadata": {},
   "source": [
    "## 定义画图函数"
   ]
  },
  {
   "cell_type": "code",
   "execution_count": 2,
   "metadata": {
    "tags": []
   },
   "outputs": [],
   "source": [
    "# 这是一个可视化数据的函数\n",
    "def plot_data(X, labels, color = 'bone',title=None,savefig=None):\n",
    "    fig, ax = plt.subplots(1, 1)\n",
    "    markercolors = ['black' if label==1 else 'red' for label in labels]\n",
    "    plt.scatter(X[:, 0], X[:, 1], s=8, c=markercolors, cmap=color)\n",
    "    \n",
    "    # 设置x-axis和y-axis的范围\n",
    "    plt.xlim(-3,3)\n",
    "    plt.ylim(-1,9)\n",
    "    \n",
    "    if title: plt.title(title)\n",
    "    if savefig: plt.savefig(os.path.join(\"gan_images\",f\"{title}.png\"))"
   ]
  },
  {
   "cell_type": "markdown",
   "metadata": {},
   "source": [
    "## 数据集"
   ]
  },
  {
   "cell_type": "code",
   "execution_count": 3,
   "metadata": {},
   "outputs": [],
   "source": [
    "# MNIST\n",
    "from torchvision import datasets, transforms\n",
    "batch_size = 256\n",
    "dataset = datasets.MNIST(root = './data/MNIST', train = True, download = True, transform = transforms.ToTensor())\n",
    "data_loader = torch.utils.data.DataLoader(dataset=dataset,batch_size=batch_size, shuffle=True,drop_last=True)"
   ]
  },
  {
   "cell_type": "code",
   "execution_count": 4,
   "metadata": {},
   "outputs": [
    {
     "data": {
      "text/plain": [
       "torch.Size([6727, 1, 28, 28])"
      ]
     },
     "execution_count": 4,
     "metadata": {},
     "output_type": "execute_result"
    }
   ],
   "source": [
    "# 选择0这部分数据\n",
    "imgs = torch.empty(1,1,28,28)\n",
    "label_choose = 1\n",
    "for img,label in data_loader:\n",
    "    imgs = torch.cat((imgs,img[label==label_choose]))\n",
    "imgs.shape"
   ]
  },
  {
   "cell_type": "code",
   "execution_count": 5,
   "metadata": {},
   "outputs": [
    {
     "data": {
      "image/png": "[encoded data removed]",
      "text/plain": [
       "<Figure size 1500x300 with 5 Axes>"
      ]
     },
     "metadata": {},
     "output_type": "display_data"
    }
   ],
   "source": [
    "index = 20\n",
    "fig,ax = plt.subplots(1,5,figsize=(5*3,3))\n",
    "for i,index in enumerate([1,2,4,6,98]):\n",
    "    ax[i].imshow(imgs[index,0],'gray')\n",
    "    ax[i].grid('off')\n",
    "# plt.title(label_choose)"
   ]
  },
  {
   "cell_type": "markdown",
   "metadata": {
    "tags": []
   },
   "source": [
    "## GAN 模型"
   ]
  },
  {
   "cell_type": "code",
   "execution_count": 6,
   "metadata": {},
   "outputs": [],
   "source": [
    "input_size = 784\n",
    "z_dim = 10\n",
    "# 定义生成器\n",
    "#  10-256-512-784(28*28)\n",
    "model_G = nn.Sequential(\n",
    "        nn.Linear(z_dim, 256),\n",
    "        nn.LeakyReLU(0.2),\n",
    "        nn.Linear(256, 512),\n",
    "        nn.LeakyReLU(0.2),\n",
    "        nn.Linear(512, input_size),\n",
    "        nn.Tanh())\n",
    "\n",
    "# 定义判别器\n",
    "# 784-512-256-1\n",
    "model_D = nn.Sequential(\n",
    "        nn.Linear(input_size, 512),\n",
    "        nn.LeakyReLU(0.2),\n",
    "        nn.Linear(512, 256),\n",
    "        nn.LeakyReLU(0.2),\n",
    "        nn.Linear(256, 1),\n",
    "        nn.Sigmoid())"
   ]
  },
  {
   "cell_type": "code",
   "execution_count": 7,
   "metadata": {
    "collapsed": false,
    "jupyter": {
     "outputs_hidden": false
    }
   },
   "outputs": [
    {
     "data": {
      "text/plain": [
       "Sequential(\n",
       "  (0): Linear(in_features=10, out_features=256, bias=True)\n",
       "  (1): LeakyReLU(negative_slope=0.2)\n",
       "  (2): Linear(in_features=256, out_features=512, bias=True)\n",
       "  (3): LeakyReLU(negative_slope=0.2)\n",
       "  (4): Linear(in_features=512, out_features=784, bias=True)\n",
       "  (5): Tanh()\n",
       ")"
      ]
     },
     "execution_count": 7,
     "metadata": {},
     "output_type": "execute_result"
    }
   ],
   "source": [
    "model_G"
   ]
  },
  {
   "cell_type": "code",
   "execution_count": 8,
   "metadata": {
    "collapsed": false,
    "jupyter": {
     "outputs_hidden": false
    }
   },
   "outputs": [
    {
     "name": "stdout",
     "output_type": "stream",
     "text": [
      "==========================================================================================\n",
      "Layer (type:depth-idx)                   Output Shape              Param #\n",
      "==========================================================================================\n",
      "├─Linear: 1-1                            [-1, 256]                 2,816\n",
      "├─LeakyReLU: 1-2                         [-1, 256]                 --\n",
      "├─Linear: 1-3                            [-1, 512]                 131,584\n",
      "├─LeakyReLU: 1-4                         [-1, 512]                 --\n",
      "├─Linear: 1-5                            [-1, 784]                 402,192\n",
      "├─Tanh: 1-6                              [-1, 784]                 --\n",
      "==========================================================================================\n",
      "Total params: 536,592\n",
      "Trainable params: 536,592\n",
      "Non-trainable params: 0\n",
      "Total mult-adds (M): 0.54\n",
      "==========================================================================================\n",
      "Input size (MB): 0.00\n",
      "Forward/backward pass size (MB): 0.01\n",
      "Params size (MB): 2.05\n",
      "Estimated Total Size (MB): 2.06\n",
      "==========================================================================================\n"
     ]
    }
   ],
   "source": [
    "# 看网络结构\n",
    "from torchsummary import  summary\n",
    "_ = summary(model_G,torch.randn(3,z_dim))\n",
    "# 256*10+256=2816"
   ]
  },
  {
   "cell_type": "code",
   "execution_count": 9,
   "metadata": {
    "collapsed": false,
    "jupyter": {
     "outputs_hidden": false
    }
   },
   "outputs": [],
   "source": [
    "# Netron\n",
    "torch.onnx.export(model_G,torch.randn(3,z_dim),'/Users/zqp/Desktop/generator.onnx',input_names=['input'],output_names=['output'])"
   ]
  },
  {
   "cell_type": "code",
   "execution_count": 10,
   "metadata": {},
   "outputs": [],
   "source": [
    "# 定义网络的优化器\n",
    "batch_size, lr = 16, 1e-3\n",
    "optimizer_G = optim.SGD(model_G.parameters(), lr = lr)\n",
    "optimizer_D = optim.SGD(model_D.parameters(), lr = lr)"
   ]
  },
  {
   "cell_type": "code",
   "execution_count": 11,
   "metadata": {
    "collapsed": false,
    "jupyter": {
     "outputs_hidden": false
    }
   },
   "outputs": [
    {
     "name": "stdout",
     "output_type": "stream",
     "text": [
      "tensor([[-0.1703,  0.9743,  0.2576,  0.0037],\n",
      "        [ 0.7286,  1.3096,  0.5473, -1.3253],\n",
      "        [-1.4630, -0.2708,  1.8006,  0.5639]])\n"
     ]
    }
   ],
   "source": [
    "x = torch.randn(3,4)\n",
    "print(x)\n",
    "# random.shuffle(x)\n",
    "# print(x)\n"
   ]
  },
  {
   "cell_type": "code",
   "execution_count": 12,
   "metadata": {
    "collapsed": false,
    "jupyter": {
     "outputs_hidden": false
    }
   },
   "outputs": [
    {
     "data": {
      "text/plain": [
       "tensor([[ 0.7286,  1.3096,  0.5473, -1.3253],\n",
       "        [-0.1703,  0.9743,  0.2576,  0.0037],\n",
       "        [-0.1703,  0.9743,  0.2576,  0.0037]])"
      ]
     },
     "execution_count": 12,
     "metadata": {},
     "output_type": "execute_result"
    }
   ],
   "source": [
    "x[[np.random.randint(3) for _ in range(3)]]"
   ]
  },
  {
   "cell_type": "code",
   "execution_count": 13,
   "metadata": {
    "tags": []
   },
   "outputs": [
    {
     "name": "stderr",
     "output_type": "stream",
     "text": [
      "100%|██████████████████████████████████████████████████████████████████████████████████████████████████████████████████████████████████████████████████████████████████| 50/50 [03:02<00:00,  3.65s/it]\n"
     ]
    }
   ],
   "source": [
    "x#训练\n",
    "nb_epochs = 50\n",
    "losses = []\n",
    "for epoch in tqdm(range(nb_epochs)):\n",
    "    random_index = [np.random.randint(len(imgs)) for _ in range(len(imgs))]\n",
    "    imgs = imgs[random_index]\n",
    "\n",
    "    for i, real_batch in enumerate(imgs.split(batch_size)):\n",
    "        real_batch = real_batch*2-1\n",
    "        real_batch = real_batch.reshape(-1,784)\n",
    "        #-------------------------------------------------\n",
    "        #             优化判别 min： -ln D(x) + ln D(G(z))\n",
    "        #-------------------------------------------------\n",
    "        z = real_batch.new(real_batch.size(0), z_dim).normal_()\n",
    "        with torch.no_grad():\n",
    "             fake_batch = model_G(z)\n",
    "        \n",
    "        D_scores_on_real = model_D(real_batch)\n",
    "        D_scores_on_fake = model_D(fake_batch) \n",
    "        loss_D = -1*D_scores_on_real.log().mean()+ D_scores_on_fake.log().mean() \n",
    "        \n",
    "        optimizer_D.zero_grad()  \n",
    "        loss_D.backward()\n",
    "        optimizer_D.step()\n",
    "        \n",
    "        #-------------------------------------------------\n",
    "        #             优化生成器 min - ln D(G(z))\n",
    "        #-------------------------------------------------          \n",
    "        z = real_batch.new(real_batch.size(0), z_dim).normal_()\n",
    "        \n",
    "        fake_batch = model_G(z)\n",
    "        D_scores_on_fake = model_D(fake_batch)\n",
    "        loss_G = -1*D_scores_on_fake.log().mean()\n",
    "        \n",
    "        optimizer_G.zero_grad()  # \n",
    "        loss_G.backward()\n",
    "        optimizer_G.step()\n",
    "        \n",
    "        losses.append([loss_D.item(),loss_G.item()])\n",
    "    \n",
    "        if epoch%2==0:\n",
    "            if  i%200==0:\n",
    "                with torch.no_grad():\n",
    "                    fake_test = fake_batch[:8]\n",
    "                    outs = torch.cat([real_batch[:8].reshape(-1,1,28,28),fake_test.reshape(-1,1,28,28)],axis=0)\n",
    "                    save_image(outs,os.path.join('gan_images', f'epoch-{epoch}-iter-{i}.png'),nrow = 8)"
   ]
  },
  {
   "cell_type": "code",
   "execution_count": 14,
   "metadata": {},
   "outputs": [
    {
     "data": {
      "text/plain": [
       "<matplotlib.legend.Legend at 0x7fee9d50b090>"
      ]
     },
     "execution_count": 14,
     "metadata": {},
     "output_type": "execute_result"
    },
    {
     "data": {
      "image/png": "[encoded data removed]",
      "text/plain": [
       "<Figure size 640x480 with 1 Axes>"
      ]
     },
     "metadata": {},
     "output_type": "display_data"
    }
   ],
   "source": [
    "plt.plot(losses)\n",
    "plt.legend(['G loss','D loss'])"
   ]
  },
  {
   "cell_type": "code",
   "execution_count": 15,
   "metadata": {},
   "outputs": [
    {
     "data": {
      "text/plain": [
       "<matplotlib.image.AxesImage at 0x7fee76630dd0>"
      ]
     },
     "execution_count": 15,
     "metadata": {},
     "output_type": "execute_result"
    },
    {
     "data": {
      "image/png": "[encoded data removed]",
      "text/plain": [
       "<Figure size 640x480 with 1 Axes>"
      ]
     },
     "metadata": {},
     "output_type": "display_data"
    }
   ],
   "source": [
    "with torch.no_grad():\n",
    "    z = real_batch.new(3, z_dim).normal_()\n",
    "    fake_batch = model_G(z).detach()\n",
    "    \n",
    "plt.imshow(fake_batch[0].reshape(28,28),'gray')"
   ]
  },
  {
   "cell_type": "markdown",
   "metadata": {},
   "source": [
    "## 制作动画"
   ]
  },
  {
   "cell_type": "code",
   "execution_count": 16,
   "metadata": {},
   "outputs": [],
   "source": [
    "# 使用png图片制作动画\n",
    "from glob import glob\n",
    "files = glob('.\\gan_images\\*.png')\n",
    "\n",
    "import imageio\n",
    "\n",
    "gif_images = []\n",
    "for file in files:\n",
    "    gif_images.append(imageio.imread(file))   # 读取图片\n",
    "imageio.mimsave(\"mnist.gif\", gif_images, fps=1)   # 转化为gif动画"
   ]
  },
  {
   "cell_type": "code",
   "execution_count": null,
   "metadata": {},
   "outputs": [],
   "source": []
  },
  {
   "cell_type": "code",
   "execution_count": null,
   "metadata": {},
   "outputs": [],
   "source": []
  },
  {
   "cell_type": "code",
   "execution_count": null,
   "metadata": {},
   "outputs": [],
   "source": []
  },
  {
   "cell_type": "markdown",
   "metadata": {},
   "source": [
    "## 作业 - 结课前交\n",
    "\n",
    "生成一维混合高斯分布 $p(x)=w_1 N(\\mu_1,\\sigma_1^2)+w_2 N(\\mu_2,\\sigma_2^2)$的500个样本，其中$w_1=w_2=0.5,\\mu_1=0.3,\\sigma_1=0.1,\\mu_2=0.5,\\sigma_2=0.1$。\n",
    "\n",
    "1). 使用高斯核的核密度估计$\\hat{f}(x ; h)=\\frac{1}{n} \\sum_{i=1}^{n} K_{h}\\left(x-X_{i}\\right)$估计分布, 其中$K(u) = \\frac{1}{\\sqrt{2 \\pi}} \\exp \\left(-\\frac{1}{2} u^{2}\\right)$\n",
    "\n",
    "2). 使用GAN模型生成服从 $p(x)$的样本\n",
    "\n",
    "3). 比较核密度估计和GAN模型密度估计的效果。提示：可以用KL距离计算估计分布和真实分布之间的差异\n",
    "\n",
    "\n",
    "\n",
    "\n",
    "\n"
   ]
  },
  {
   "cell_type": "code",
   "execution_count": null,
   "metadata": {},
   "outputs": [],
   "source": []
  }
 ],
 "metadata": {
  "kernelspec": {
   "display_name": "Python 3 (ipykernel)",
   "language": "python",
   "name": "python3"
  },
  "language_info": {
   "codemirror_mode": {
    "name": "ipython",
    "version": 3
   },
   "file_extension": ".py",
   "mimetype": "text/x-python",
   "name": "python",
   "nbconvert_exporter": "python",
   "pygments_lexer": "ipython3",
   "version": "3.7.15"
  }
 },
 "nbformat": 4,
 "nbformat_minor": 4
}
