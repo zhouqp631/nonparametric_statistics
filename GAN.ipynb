{
 "cells": [
  {
   "cell_type": "markdown",
   "metadata": {
    "tags": []
   },
   "source": [
    "# 在MNIST上实现GAN   "
   ]
  },
  {
   "cell_type": "code",
   "execution_count": 1,
   "metadata": {},
   "outputs": [],
   "source": [
    "import torch\n",
    "import torch.nn as nn\n",
    "import torch.optim as optim\n",
    "from torchvision.utils import save_image\n",
    "\n",
    "import numpy as np\n",
    "import os\n",
    "import matplotlib.pyplot as plt\n",
    "import seaborn as sns; sns.set()\n",
    "from tqdm import tqdm\n",
    "%matplotlib inline"
   ]
  },
  {
   "cell_type": "markdown",
   "metadata": {},
   "source": [
    "## 定义画图函数"
   ]
  },
  {
   "cell_type": "code",
   "execution_count": 2,
   "metadata": {
    "tags": []
   },
   "outputs": [],
   "source": [
    "# 这是一个可视化数据的函数\n",
    "def plot_data(X, labels, color = 'bone',title=None,savefig=None):\n",
    "    fig, ax = plt.subplots(1, 1)\n",
    "    markercolors = ['black' if label==1 else 'red' for label in labels]\n",
    "    plt.scatter(X[:, 0], X[:, 1], s=8, c=markercolors, cmap=color)\n",
    "    \n",
    "    # 设置x-axis和y-axis的范围\n",
    "    plt.xlim(-3,3)\n",
    "    plt.ylim(-1,9)\n",
    "    \n",
    "    if title: plt.title(title)\n",
    "    if savefig: plt.savefig(os.path.join(\"gan_images\",f\"{title}.png\"))"
   ]
  },
  {
   "cell_type": "markdown",
   "metadata": {},
   "source": [
    "## 数据集"
   ]
  },
  {
   "cell_type": "code",
   "execution_count": 3,
   "metadata": {},
   "outputs": [],
   "source": [
    "# MNIST\n",
    "from torchvision import datasets, transforms\n",
    "batch_size = 256\n",
    "dataset = datasets.MNIST(root = './data/MNIST', train = True, download = True, transform = transforms.ToTensor())\n",
    "data_loader = torch.utils.data.DataLoader(dataset=dataset,batch_size=batch_size, shuffle=True,drop_last=True)"
   ]
  },
  {
   "cell_type": "code",
   "execution_count": 4,
   "metadata": {},
   "outputs": [
    {
     "data": {
      "text/plain": [
       "torch.Size([6123, 1, 28, 28])"
      ]
     },
     "execution_count": 4,
     "metadata": {},
     "output_type": "execute_result"
    }
   ],
   "source": [
    "imgs = torch.empty(1,1,28,28)\n",
    "label_choose = 3\n",
    "for img,label in data_loader:\n",
    "    imgs = torch.cat((imgs,img[label==label_choose]))\n",
    "imgs.shape"
   ]
  },
  {
   "cell_type": "code",
   "execution_count": 5,
   "metadata": {},
   "outputs": [
    {
     "data": {
      "image/png": "[encoded data removed]",
      "text/plain": [
       "<Figure size 1500x300 with 5 Axes>"
      ]
     },
     "metadata": {},
     "output_type": "display_data"
    }
   ],
   "source": [
    "index = 20\n",
    "fig,ax = plt.subplots(1,5,figsize=(5*3,3))\n",
    "for i,index in enumerate([1,2,4,6,98]):\n",
    "    ax[i].imshow(imgs[index,0],'gray')\n",
    "# plt.title(label_choose)"
   ]
  },
  {
   "cell_type": "markdown",
   "metadata": {
    "tags": []
   },
   "source": [
    "## GAN 模型"
   ]
  },
  {
   "cell_type": "code",
   "execution_count": 6,
   "metadata": {},
   "outputs": [],
   "source": [
    "input_size = 784\n",
    "z_dim = 20\n",
    "hidden_size = 256\n",
    "# 定义生成器\n",
    "model_G = nn.Sequential(\n",
    "        nn.Linear(z_dim, 256),\n",
    "        nn.LeakyReLU(0.2),nn.Dropout(0.3),\n",
    "        nn.Linear(256, 512),\n",
    "        nn.LeakyReLU(0.2),nn.Dropout(0.3),\n",
    "        nn.Linear(512, 1024),\n",
    "        nn.LeakyReLU(0.2),nn.Dropout(0.3),\n",
    "        nn.Linear(1024, input_size),\n",
    "        nn.Tanh())\n",
    "\n",
    "# 定义判别器\n",
    "model_D = nn.Sequential(\n",
    "        nn.Linear(input_size, 1024),\n",
    "        nn.LeakyReLU(0.2),nn.Dropout(0.3),\n",
    "        nn.Linear(1024, 512),\n",
    "        nn.LeakyReLU(0.2),nn.Dropout(0.3),\n",
    "        nn.Linear(512, 256),\n",
    "        nn.LeakyReLU(0.2),nn.Dropout(0.3),\n",
    "        nn.Linear(256, 1),\n",
    "        nn.Sigmoid())"
   ]
  },
  {
   "cell_type": "code",
   "execution_count": 7,
   "metadata": {
    "collapsed": false,
    "jupyter": {
     "outputs_hidden": false
    }
   },
   "outputs": [
    {
     "name": "stdout",
     "output_type": "stream",
     "text": [
      "==========================================================================================\n",
      "Layer (type:depth-idx)                   Output Shape              Param #\n",
      "==========================================================================================\n",
      "├─Linear: 1-1                            [-1, 256]                 5,376\n",
      "├─LeakyReLU: 1-2                         [-1, 256]                 --\n",
      "├─Dropout: 1-3                           [-1, 256]                 --\n",
      "├─Linear: 1-4                            [-1, 512]                 131,584\n",
      "├─LeakyReLU: 1-5                         [-1, 512]                 --\n",
      "├─Dropout: 1-6                           [-1, 512]                 --\n",
      "├─Linear: 1-7                            [-1, 1024]                525,312\n",
      "├─LeakyReLU: 1-8                         [-1, 1024]                --\n",
      "├─Dropout: 1-9                           [-1, 1024]                --\n",
      "├─Linear: 1-10                           [-1, 784]                 803,600\n",
      "├─Tanh: 1-11                             [-1, 784]                 --\n",
      "==========================================================================================\n",
      "Total params: 1,465,872\n",
      "Trainable params: 1,465,872\n",
      "Non-trainable params: 0\n",
      "Total mult-adds (M): 1.46\n",
      "==========================================================================================\n",
      "Input size (MB): 0.00\n",
      "Forward/backward pass size (MB): 0.02\n",
      "Params size (MB): 5.59\n",
      "Estimated Total Size (MB): 5.61\n",
      "==========================================================================================\n"
     ]
    }
   ],
   "source": [
    "# 看网络结构\n",
    "from torchsummary import  summary\n",
    "_ = summary(model_G,torch.randn(3,z_dim))\n",
    "\n",
    "torch.onnx.export(model_G,torch.randn(3,z_dim),'/Users/zqp/Desktop/generator.onnx',input_names=['input'],output_names=['output'])"
   ]
  },
  {
   "cell_type": "code",
   "execution_count": 8,
   "metadata": {},
   "outputs": [],
   "source": [
    "# 定义网络的优化器\n",
    "batch_size, lr = 56, 2e-4\n",
    "optimizer_G = optim.Adam(model_G.parameters(), lr = lr)\n",
    "optimizer_D = optim.Adam(model_D.parameters(), lr = lr)"
   ]
  },
  {
   "cell_type": "code",
   "execution_count": 9,
   "metadata": {
    "tags": []
   },
   "outputs": [
    {
     "name": "stderr",
     "output_type": "stream",
     "text": [
      "  0%|                                                                                                                                                                            | 0/5 [00:00<?, ?it/s]/opt/anaconda3/envs/py37/lib/python3.7/site-packages/ipykernel_launcher.py:5: UserWarning: you are shuffling a 'Tensor' object which is not a subclass of 'Sequence'; `shuffle` is not guaranteed to behave correctly. E.g., non-numpy array/tensor objects with view semantics may contain duplicates after shuffling.\n",
      "  \"\"\"\n",
      "100%|████████████████████████████████████████████████████████████████████████████████████████████████████████████████████████████████████████████████████████████████████| 5/5 [00:36<00:00,  7.21s/it]\n"
     ]
    }
   ],
   "source": [
    "#训练\n",
    "nb_epochs = 5\n",
    "losses = []\n",
    "for epoch in tqdm(range(nb_epochs)):\n",
    "    np.random.shuffle(imgs)\n",
    "    for i, real_batch in enumerate(imgs.split(batch_size)):\n",
    "        real_batch = real_batch*2-1\n",
    "        real_batch = real_batch.reshape(-1,784)\n",
    "        #-------------------------------------------------\n",
    "        #             优化判别器\n",
    "        #-------------------------------------------------\n",
    "        z = real_batch.new(real_batch.size(0), z_dim).normal_()\n",
    "        fake_batch = model_G(z)\n",
    "        \n",
    "        D_scores_on_real = model_D(real_batch)\n",
    "        D_scores_on_fake = model_D(fake_batch) \n",
    "        loss_D = -1*D_scores_on_real.log().mean()+ D_scores_on_fake.log().mean() \n",
    "        \n",
    "        optimizer_D.zero_grad()  \n",
    "        loss_D.backward()\n",
    "        optimizer_D.step()\n",
    "        \n",
    "        #-------------------------------------------------\n",
    "        #             优化生成器\n",
    "        #-------------------------------------------------          \n",
    "        z = real_batch.new(real_batch.size(0), z_dim).normal_()\n",
    "        \n",
    "        fake_batch = model_G(z)\n",
    "        D_scores_on_fake = model_D(fake_batch)\n",
    "        loss_G = - D_scores_on_fake.log().mean()\n",
    "        \n",
    "        optimizer_G.zero_grad()  # \n",
    "        loss_G.backward()\n",
    "        optimizer_G.step()\n",
    "        \n",
    "        losses.append([loss_D.item(),loss_G.item()])\n",
    "    \n",
    "        if epoch%2==0:\n",
    "            if  i%200==0:\n",
    "                with torch.no_grad():\n",
    "                    fake_test = fake_batch[:8]\n",
    "# for MNIST\n",
    "                    outs = torch.cat([real_batch[:8].reshape(-1,1,28,28),fake_test.reshape(-1,1,28,28)],axis=0)\n",
    "                    save_image(outs,os.path.join('gan_images', f'epoch-{epoch}-iter-{i}.png'),nrow = 8)\n",
    "# for 其它数据\n",
    "                    # fake_test_data = fake_test.detach().numpy()\n",
    "                    # all_data = np.concatenate((X,fake_test_data),axis=0)\n",
    "                    # all_labels = np.concatenate((np.ones(X.shape[0]),np.zeros(fake_test_data.shape[0])))\n",
    "                    # plot_data(all_data, all_labels,title=f'epoch-{epoch}-iter-{i}',savefig=True)\n"
   ]
  },
  {
   "cell_type": "code",
   "execution_count": 10,
   "metadata": {},
   "outputs": [],
   "source": [
    "# losses"
   ]
  },
  {
   "cell_type": "code",
   "execution_count": 11,
   "metadata": {},
   "outputs": [
    {
     "data": {
      "text/plain": [
       "<matplotlib.legend.Legend at 0x7f9b5035c490>"
      ]
     },
     "execution_count": 11,
     "metadata": {},
     "output_type": "execute_result"
    },
    {
     "data": {
      "image/png": "[encoded data removed]",
      "text/plain": [
       "<Figure size 640x480 with 1 Axes>"
      ]
     },
     "metadata": {},
     "output_type": "display_data"
    }
   ],
   "source": [
    "plt.plot(np.log(losses))\n",
    "# plt.ylim([-3,3])\n",
    "plt.legend(['G loss','D loss'])"
   ]
  },
  {
   "cell_type": "code",
   "execution_count": 12,
   "metadata": {},
   "outputs": [
    {
     "data": {
      "text/plain": [
       "<matplotlib.image.AxesImage at 0x7f9b51fd09d0>"
      ]
     },
     "execution_count": 12,
     "metadata": {},
     "output_type": "execute_result"
    },
    {
     "data": {
      "image/png": "[encoded data removed]",
      "text/plain": [
       "<Figure size 640x480 with 1 Axes>"
      ]
     },
     "metadata": {},
     "output_type": "display_data"
    }
   ],
   "source": [
    "with torch.no_grad():\n",
    "    z = real_batch.new(3, z_dim).normal_()\n",
    "    fake_batch = model_G(z).detach()\n",
    "    \n",
    "plt.imshow(fake_batch[0].reshape(28,28),'gray')"
   ]
  },
  {
   "cell_type": "markdown",
   "metadata": {},
   "source": [
    "## 制作动画"
   ]
  },
  {
   "cell_type": "code",
   "execution_count": 13,
   "metadata": {},
   "outputs": [],
   "source": [
    "# 使用png图片制作动画\n",
    "from glob import glob\n",
    "files = glob('.\\gan_images\\*.png')\n",
    "\n",
    "import imageio\n",
    "\n",
    "gif_images = []\n",
    "for file in files:\n",
    "    gif_images.append(imageio.imread(file))   # 读取图片\n",
    "imageio.mimsave(\"mnist.gif\", gif_images, fps=1)   # 转化为gif动画"
   ]
  },
  {
   "cell_type": "code",
   "execution_count": null,
   "metadata": {},
   "outputs": [],
   "source": []
  },
  {
   "cell_type": "code",
   "execution_count": null,
   "metadata": {},
   "outputs": [],
   "source": []
  },
  {
   "cell_type": "code",
   "execution_count": null,
   "metadata": {},
   "outputs": [],
   "source": []
  },
  {
   "cell_type": "markdown",
   "metadata": {},
   "source": [
    "## 作业 - 结课前交\n",
    "\n",
    "生成一维混合高斯分布 $p(x)=w_1 N(\\mu_1,\\sigma_1^2)+w_2 N(\\mu_2,\\sigma_2^2)$的500个样本，其中$w_1=w_2=0.5,\\mu_1=0.3,\\sigma_1=0.1,\\mu_2=0.5,\\sigma_2=0.1$。\n",
    "\n",
    "1). 使用高斯核的核密度估计$\\hat{f}(x ; h)=\\frac{1}{n} \\sum_{i=1}^{n} K_{h}\\left(x-X_{i}\\right)$估计分布, 其中$K(u) = \\frac{1}{\\sqrt{2 \\pi}} \\exp \\left(-\\frac{1}{2} u^{2}\\right)$\n",
    "\n",
    "2). 使用GAN模型生成服从 $p(x)$的样本\n",
    "\n",
    "3). 比较核密度估计和GAN模型密度估计的效果。提示：可以用KL距离计算估计分布和真实分布之间的差异\n",
    "\n",
    "\n",
    "\n",
    "\n",
    "\n"
   ]
  },
  {
   "cell_type": "code",
   "execution_count": null,
   "metadata": {},
   "outputs": [],
   "source": []
  }
 ],
 "metadata": {
  "kernelspec": {
   "display_name": "Python 3 (ipykernel)",
   "language": "python",
   "name": "python3"
  },
  "language_info": {
   "codemirror_mode": {
    "name": "ipython",
    "version": 3
   },
   "file_extension": ".py",
   "mimetype": "text/x-python",
   "name": "python",
   "nbconvert_exporter": "python",
   "pygments_lexer": "ipython3",
   "version": "3.7.15"
  }
 },
 "nbformat": 4,
 "nbformat_minor": 4
}
