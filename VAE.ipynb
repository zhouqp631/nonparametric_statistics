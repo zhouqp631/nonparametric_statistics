{
 "cells": [
  {
   "cell_type": "markdown",
   "id": "caf2929d",
   "metadata": {},
   "source": [
    "# 变分自编码VAE"
   ]
  },
  {
   "cell_type": "markdown",
   "id": "ff31dba4",
   "metadata": {
    "slideshow": {
     "slide_type": "slide"
    },
    "tags": []
   },
   "source": [
    "## 导入有关函数"
   ]
  },
  {
   "cell_type": "code",
   "execution_count": 1,
   "id": "af93913e",
   "metadata": {
    "pycharm": {
     "is_executing": true
    },
    "slideshow": {
     "slide_type": "slide"
    },
    "tags": []
   },
   "outputs": [],
   "source": [
    "import os\n",
    "import numpy as np\n",
    "import  matplotlib.pyplot as plt\n",
    "\n",
    "import torch\n",
    "import torch.nn as nn\n",
    "import torch.nn.functional as F\n",
    "import torchvision\n",
    "from torchvision import transforms\n",
    "from torchvision.utils import save_image\n",
    "from tqdm import tqdm"
   ]
  },
  {
   "cell_type": "code",
   "execution_count": 2,
   "id": "b48b0622",
   "metadata": {
    "pycharm": {
     "is_executing": true
    }
   },
   "outputs": [
    {
     "data": {
      "text/plain": [
       "device(type='cpu')"
      ]
     },
     "execution_count": 2,
     "metadata": {},
     "output_type": "execute_result"
    }
   ],
   "source": [
    "# 设备配置\n",
    "device = torch.device('cuda' if torch.cuda.is_available() else 'cpu')\n",
    "device"
   ]
  },
  {
   "cell_type": "code",
   "execution_count": 3,
   "id": "acf24e53",
   "metadata": {
    "pycharm": {
     "is_executing": true
    }
   },
   "outputs": [],
   "source": [
    "# 如果没有文件夹就创建一个文件夹\n",
    "sample_dir = 'vae_images'\n",
    "if not os.path.exists(sample_dir):\n",
    "    os.makedirs(sample_dir)"
   ]
  },
  {
   "cell_type": "code",
   "execution_count": 4,
   "id": "49d023a7",
   "metadata": {
    "pycharm": {
     "is_executing": true
    }
   },
   "outputs": [],
   "source": [
    "# 超参数设置\n",
    "image_size = 784\n",
    "h_dim = 400\n",
    "z_dim = 20\n",
    "num_epochs = 20\n",
    "batch_size = 32\n",
    "learning_rate = 1e-3"
   ]
  },
  {
   "cell_type": "markdown",
   "id": "f0f0e4c4",
   "metadata": {},
   "source": [
    "## 数据集"
   ]
  },
  {
   "cell_type": "code",
   "execution_count": 5,
   "id": "4dd8a3ab",
   "metadata": {
    "pycharm": {
     "is_executing": true
    }
   },
   "outputs": [],
   "source": [
    "dataset = torchvision.datasets.MNIST(root=os.path.join('data','MNIST'),\n",
    "                                     train=True,\n",
    "                                     transform=transforms.ToTensor(),\n",
    "                                     download=True)  \n",
    "\n",
    "# 数据加载器\n",
    "data_loader = torch.utils.data.DataLoader(dataset=dataset,\n",
    "                                          batch_size=batch_size, \n",
    "                                          shuffle=True,\n",
    "                                         drop_last=True)"
   ]
  },
  {
   "cell_type": "code",
   "execution_count": 6,
   "id": "06e6c905",
   "metadata": {
    "pycharm": {
     "is_executing": true
    }
   },
   "outputs": [
    {
     "data": {
      "text/plain": [
       "(torch.Size([32, 1, 28, 28]), torch.Size([32]))"
      ]
     },
     "execution_count": 6,
     "metadata": {},
     "output_type": "execute_result"
    }
   ],
   "source": [
    "img,label = next(iter(data_loader))\n",
    "img.shape,label.shape"
   ]
  },
  {
   "cell_type": "markdown",
   "id": "553a387d",
   "metadata": {},
   "source": [
    "## 创建VAE模型"
   ]
  },
  {
   "cell_type": "code",
   "execution_count": 7,
   "id": "afd8249d",
   "metadata": {
    "pycharm": {
     "is_executing": true
    }
   },
   "outputs": [],
   "source": [
    "# VAE model\n",
    "class VAE(nn.Module):\n",
    "    def __init__(self, image_size=784, h_dim=400, z_dim=20):\n",
    "        super(VAE, self).__init__()\n",
    "        self.fc1 = nn.Linear(image_size, h_dim)\n",
    "        self.fc2 = nn.Linear(h_dim, z_dim) # 均值 向量\n",
    "        self.fc3 = nn.Linear(h_dim, z_dim) # log(方差) 向量\n",
    "        self.fc4 = nn.Linear(z_dim, h_dim)\n",
    "        self.fc5 = nn.Linear(h_dim, image_size)\n",
    "        \n",
    "    # 编码过程\n",
    "    def encode(self, x):\n",
    "        h = F.relu(self.fc1(x))\n",
    "        mu = self.fc2(h)\n",
    "        log_var = self.fc3(h)\n",
    "        return mu,log_var\n",
    "\n",
    "    # 解码过程\n",
    "    def decode(self, z):\n",
    "        h = F.relu(self.fc4(z))\n",
    "        return torch.sigmoid(self.fc5(h))\n",
    "    \n",
    "    \n",
    "    # 随机生成隐含向量\n",
    "    def reparameterize(self, mu, log_var):\n",
    "        std = torch.exp(log_var/2)\n",
    "        eps = torch.randn_like(std)\n",
    "        return mu + eps * std\n",
    "    \n",
    "    # 整个前向传播过程：编码 -> 解码\n",
    "    def forward(self, x):\n",
    "        mu, log_var = self.encode(x)\n",
    "        z = self.reparameterize(mu, log_var)\n",
    "        x_reconst = self.decode(z)\n",
    "        return x_reconst, mu, log_var"
   ]
  },
  {
   "cell_type": "markdown",
   "id": "2f6328b3",
   "metadata": {},
   "source": [
    "## 训练"
   ]
  },
  {
   "cell_type": "code",
   "execution_count": 8,
   "id": "c501f50f",
   "metadata": {
    "pycharm": {
     "is_executing": true
    }
   },
   "outputs": [],
   "source": [
    "# 实例化一个模型\n",
    "model = VAE().to(device)"
   ]
  },
  {
   "cell_type": "code",
   "execution_count": 9,
   "id": "8b25b6c1",
   "metadata": {
    "pycharm": {
     "is_executing": true
    },
    "tags": []
   },
   "outputs": [],
   "source": [
    "# 创建优化器\n",
    "optimizer = torch.optim.Adam(model.parameters(), lr=1e-4)"
   ]
  },
  {
   "cell_type": "code",
   "execution_count": null,
   "id": "c00075a1",
   "metadata": {
    "pycharm": {
     "is_executing": true
    },
    "tags": []
   },
   "outputs": [
    {
     "name": "stdout",
     "output_type": "stream",
     "text": [
      "0 1755033.86328125\n",
      "1 1415836.1510620117\n",
      "2 1357125.6746826172\n",
      "3 1318292.219543457\n",
      "4 1290762.8973999023\n",
      "5 1271674.1740722656\n",
      "6 1257413.5634765625\n",
      "7 1243656.655822754\n",
      "8 1234759.3365478516\n",
      "9 1226446.2692871094\n",
      "10 1220028.3908691406\n",
      "11 1213766.872619629\n",
      "12 1209661.2331542969\n",
      "13 1205449.91015625\n",
      "14 1202638.031616211\n",
      "15 1199801.965637207\n",
      "16 1194868.9035644531\n",
      "17 1192598.2251586914\n",
      "18 1190276.127319336\n",
      "19 1188303.6193847656\n"
     ]
    }
   ],
   "source": [
    "losses = []\n",
    "outs,x_concats = [],[]\n",
    "for epoch in range(num_epochs):\n",
    "    loss_epoch = 0\n",
    "    for i, (x, _) in enumerate(data_loader):\n",
    "        # 获取样本，并前向传播\n",
    "        x = x.to(device).view(-1, image_size)\n",
    "        x_reconst, mu, log_var = model(x)\n",
    "        \n",
    "        \n",
    "        # 计算对数似然函数和KL散度\n",
    "        reconst_loss = 0.5*(x_reconst-x).pow(2).sum()      # 正态损失\n",
    "#         reconst_loss = -torch.sum(x*(x_reconst).log()+(1-x)*(1-x_reconst).log()) \n",
    "        # reconst_loss = F.binary_cross_entropy(x_reconst, x, size_average=False) \n",
    "        kl_div = -0.5 * (1+log_var - mu.pow(2) - log_var.exp()).sum()\n",
    "        loss = reconst_loss + kl_div\n",
    "        loss_epoch += loss.item()\n",
    "        \n",
    "        \n",
    "        # 反向传播和优化\n",
    "        optimizer.zero_grad()  # 参数梯度设置为0\n",
    "        loss.backward()        # 计算参数的梯度\n",
    "        optimizer.step()       # 更新参数\n",
    "          \n",
    "        \n",
    "        if (i+1) % 100 == 0: \n",
    "            losses.append([reconst_loss.item(), kl_div.item()])\n",
    "\n",
    "    print(epoch,loss_epoch)\n",
    "    # 利用训练的模型进行测试\n",
    "    with torch.no_grad():\n",
    "        # 随机生成的图像\n",
    "        z = torch.randn(20, z_dim).to(device)\n",
    "        out = model.decode(z).view(-1, 1, 28, 28)\n",
    "        save_image(out,\n",
    "                   os.path.join(sample_dir, 'sample-{}.png'.format(epoch+1)),\n",
    "                   nrow = 4)\n",
    "\n",
    "        # 重构的图像\n",
    "        x_part = x[:20]\n",
    "        out, _, _ = model(x_part)\n",
    "        x_concat = torch.cat([x_part.view(-1, 1, 28, 28), out.view(-1, 1, 28, 28)], dim=3)\n",
    "        save_image(out.view(-1, 1, 28, 28),\n",
    "                   os.path.join(sample_dir, 'reconst-{}.png'.format(epoch+1)),\n",
    "                   nrow = 4)"
   ]
  },
  {
   "cell_type": "markdown",
   "id": "d7056940",
   "metadata": {},
   "source": [
    "## 结果分析"
   ]
  },
  {
   "cell_type": "markdown",
   "id": "2bff6177",
   "metadata": {
    "tags": []
   },
   "source": [
    "### 误差"
   ]
  },
  {
   "cell_type": "code",
   "execution_count": null,
   "id": "71e1bd13",
   "metadata": {
    "pycharm": {
     "is_executing": true
    }
   },
   "outputs": [
    {
     "data": {
      "image/png": "[encoded data removed]",
      "text/plain": [
       "<Figure size 1200x300 with 3 Axes>"
      ]
     },
     "metadata": {},
     "output_type": "display_data"
    }
   ],
   "source": [
    "# 误差\n",
    "fig,ax = plt.subplots(1,3,figsize = (12,3))\n",
    "_ = ax[0].plot(np.array(losses)[:,0]),ax[0].set_title('reconstruction error')\n",
    "_ = ax[1].plot(np.array(losses)[:,1]),ax[1].set_title('KL divergence')\n",
    "_ = ax[2].plot(np.array(losses).sum(axis=1)),ax[2].set_title('total loss')\n",
    "_ = plt.show()"
   ]
  },
  {
   "cell_type": "markdown",
   "id": "ac7823f5",
   "metadata": {},
   "source": [
    "### 生成图像和重构图像"
   ]
  },
  {
   "cell_type": "code",
   "execution_count": null,
   "id": "6e61b20f",
   "metadata": {
    "pycharm": {
     "is_executing": true
    }
   },
   "outputs": [
    {
     "name": "stderr",
     "output_type": "stream",
     "text": [
      "/opt/anaconda3/envs/py37/lib/python3.7/site-packages/ipykernel_launcher.py:6: DeprecationWarning: Starting with ImageIO v3 the behavior of this function will switch to that of iio.v3.imread. To keep the current behavior (and make this warning disappear) use `import imageio.v2 as imageio` or call `imageio.v2.imread` directly.\n",
      "  \n"
     ]
    }
   ],
   "source": [
    "# 使用png图片制作动画\n",
    "import imageio\n",
    "gif_images = []\n",
    "for d in range(1,21):\n",
    "    file = f\"vae_images/sample-{d}.png\"\n",
    "    gif_images.append(imageio.imread(file))   # 读取图片\n",
    "imageio.mimsave(\"vae-samples.gif\", gif_images, fps=1)   # 转化为gif动画"
   ]
  },
  {
   "cell_type": "code",
   "execution_count": null,
   "id": "db108cf9",
   "metadata": {
    "pycharm": {
     "is_executing": true
    }
   },
   "outputs": [
    {
     "name": "stderr",
     "output_type": "stream",
     "text": [
      "/opt/anaconda3/envs/py37/lib/python3.7/site-packages/ipykernel_launcher.py:6: DeprecationWarning: Starting with ImageIO v3 the behavior of this function will switch to that of iio.v3.imread. To keep the current behavior (and make this warning disappear) use `import imageio.v2 as imageio` or call `imageio.v2.imread` directly.\n",
      "  \n"
     ]
    }
   ],
   "source": [
    "# 使用png图片制作动画\n",
    "import imageio\n",
    "gif_images = []\n",
    "for d in range(1,21):\n",
    "    file = f\"vae_images/reconst-{d}.png\"\n",
    "    gif_images.append(imageio.imread(file))   # 读取图片\n",
    "imageio.mimsave(\"vae-reconst.gif\", gif_images, fps=1)   # 转化为gif动画"
   ]
  },
  {
   "cell_type": "markdown",
   "id": "d0f7155b",
   "metadata": {},
   "source": [
    "### 隐空间流行分析"
   ]
  },
  {
   "cell_type": "code",
   "execution_count": 20,
   "id": "942e8314",
   "metadata": {
    "pycharm": {
     "is_executing": true
    },
    "tags": []
   },
   "outputs": [
    {
     "data": {
      "image/png": "[encoded data removed]",
      "text/plain": [
       "<Figure size 1600x600 with 8 Axes>"
      ]
     },
     "metadata": {},
     "output_type": "display_data"
    }
   ],
   "source": [
    "with torch.no_grad():\n",
    "    # 在z空间插值，得到相应的图像\n",
    "    z1 = torch.randn(1, z_dim).to(device)\n",
    "    out1 = model.decode(z1).view(28, 28)\n",
    "\n",
    "    z2 = torch.randn(1, z_dim).to(device)\n",
    "    out2 = model.decode(z2).view(28, 28)\n",
    "\n",
    "    outs = [out1]\n",
    "    for a in np.linspace(0,1,6):\n",
    "        z = a*z1+(1-a)*z2\n",
    "        out =  model.decode(z).view(28, 28)\n",
    "        outs.append(out)\n",
    "    outs.append(out2)\n",
    "    \n",
    "    # 画图\n",
    "    fig,ax = plt.subplots(2,len(outs)//2,figsize=(16,6))\n",
    "    ax = ax.flatten()\n",
    "    for i in range(len(outs)):\n",
    "        _ = ax[i].imshow(outs[i].cpu(),'gray')\n",
    "        _ = ax[i].axis('off')\n",
    "plt.show()"
   ]
  },
  {
   "cell_type": "markdown",
   "id": "7a74b1f9",
   "metadata": {},
   "source": [
    "# 问题"
   ]
  },
  {
   "cell_type": "code",
   "execution_count": null,
   "id": "7e758a02",
   "metadata": {
    "pycharm": {
     "is_executing": true
    }
   },
   "outputs": [],
   "source": []
  }
 ],
 "metadata": {
  "kernelspec": {
   "display_name": "Python 3 (ipykernel)",
   "language": "python",
   "name": "python3"
  },
  "language_info": {
   "codemirror_mode": {
    "name": "ipython",
    "version": 3
   },
   "file_extension": ".py",
   "mimetype": "text/x-python",
   "name": "python",
   "nbconvert_exporter": "python",
   "pygments_lexer": "ipython3",
   "version": "3.7.15"
  }
 },
 "nbformat": 4,
 "nbformat_minor": 5
}
